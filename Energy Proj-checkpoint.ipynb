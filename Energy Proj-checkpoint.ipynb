{
 "cells": [
  {
   "cell_type": "markdown",
   "metadata": {},
   "source": [
    "<h3>Tyler Young</h3>\n",
    "\n",
    "\n",
    "<h2>Machine Learning Project - Energy efficiency regression task</h2>\n",
    "\n",
    "This analysis will comprise of interpreting an existing dataset consisting of building characteristics X0-X8 and predicting a variable Y. In order to achieve this task, the universal workflow of machine learning will be followed as necessary steps for completing this regression task. \n",
    "\n",
    "The steps are as follows:\n",
    "- Loading the data and visualising it for insights and looking for correlations in the dataset\n",
    "- Splitting the dataset into a training set and test set\n",
    "- Data preparation: Data cleaning, text/categorical attributes, feature scaling etc.\n",
    "- Transformation pipelines\n",
    "- Testing models on the training set\n",
    "- Performing cross validation\n",
    "- Fine tuning: Grid search \n",
    "- Finally, evaluate optimal models on the test set"
   ]
  },
  {
   "cell_type": "code",
   "execution_count": 1,
   "metadata": {},
   "outputs": [],
   "source": [
    "import numpy as np #Importing necessary libraries\n",
    "%matplotlib inline\n",
    "import matplotlib.pyplot as plt\n",
    "from sklearn.impute import SimpleImputer\n",
    "from sklearn.preprocessing import OneHotEncoder\n",
    "from sklearn.base import BaseEstimator, TransformerMixin\n",
    "from sklearn.pipeline import Pipeline\n",
    "from sklearn.preprocessing import StandardScaler\n",
    "from sklearn.compose import ColumnTransformer\n",
    "from sklearn.linear_model import LinearRegression"
   ]
  },
  {
   "cell_type": "code",
   "execution_count": 2,
   "metadata": {},
   "outputs": [
    {
     "data": {
      "text/html": [
       "<div>\n",
       "<style scoped>\n",
       "    .dataframe tbody tr th:only-of-type {\n",
       "        vertical-align: middle;\n",
       "    }\n",
       "\n",
       "    .dataframe tbody tr th {\n",
       "        vertical-align: top;\n",
       "    }\n",
       "\n",
       "    .dataframe thead th {\n",
       "        text-align: right;\n",
       "    }\n",
       "</style>\n",
       "<table border=\"1\" class=\"dataframe\">\n",
       "  <thead>\n",
       "    <tr style=\"text-align: right;\">\n",
       "      <th></th>\n",
       "      <th>X0</th>\n",
       "      <th>X1</th>\n",
       "      <th>X2</th>\n",
       "      <th>X3</th>\n",
       "      <th>X4</th>\n",
       "      <th>X5</th>\n",
       "      <th>X6</th>\n",
       "      <th>X7</th>\n",
       "      <th>X8</th>\n",
       "      <th>Y</th>\n",
       "    </tr>\n",
       "  </thead>\n",
       "  <tbody>\n",
       "    <tr>\n",
       "      <th>0</th>\n",
       "      <td>C3</td>\n",
       "      <td>1.19</td>\n",
       "      <td>622.55</td>\n",
       "      <td>NaN</td>\n",
       "      <td>89.31</td>\n",
       "      <td>7.00</td>\n",
       "      <td>1.98</td>\n",
       "      <td>0.0</td>\n",
       "      <td>0.0</td>\n",
       "      <td>15.55</td>\n",
       "    </tr>\n",
       "    <tr>\n",
       "      <th>1</th>\n",
       "      <td>C1</td>\n",
       "      <td>1.19</td>\n",
       "      <td>622.55</td>\n",
       "      <td>323.40</td>\n",
       "      <td>109.15</td>\n",
       "      <td>7.70</td>\n",
       "      <td>3.00</td>\n",
       "      <td>0.0</td>\n",
       "      <td>0.0</td>\n",
       "      <td>15.55</td>\n",
       "    </tr>\n",
       "    <tr>\n",
       "      <th>2</th>\n",
       "      <td>C1</td>\n",
       "      <td>0.88</td>\n",
       "      <td>463.05</td>\n",
       "      <td>291.06</td>\n",
       "      <td>99.23</td>\n",
       "      <td>5.67</td>\n",
       "      <td>4.40</td>\n",
       "      <td>0.0</td>\n",
       "      <td>0.0</td>\n",
       "      <td>15.55</td>\n",
       "    </tr>\n",
       "    <tr>\n",
       "      <th>3</th>\n",
       "      <td>C2</td>\n",
       "      <td>0.79</td>\n",
       "      <td>509.36</td>\n",
       "      <td>291.06</td>\n",
       "      <td>121.28</td>\n",
       "      <td>6.30</td>\n",
       "      <td>4.05</td>\n",
       "      <td>0.0</td>\n",
       "      <td>0.0</td>\n",
       "      <td>15.55</td>\n",
       "    </tr>\n",
       "    <tr>\n",
       "      <th>4</th>\n",
       "      <td>C1</td>\n",
       "      <td>0.89</td>\n",
       "      <td>507.15</td>\n",
       "      <td>385.39</td>\n",
       "      <td>121.28</td>\n",
       "      <td>7.70</td>\n",
       "      <td>2.00</td>\n",
       "      <td>0.0</td>\n",
       "      <td>0.0</td>\n",
       "      <td>20.84</td>\n",
       "    </tr>\n",
       "  </tbody>\n",
       "</table>\n",
       "</div>"
      ],
      "text/plain": [
       "   X0    X1      X2      X3      X4    X5    X6   X7   X8      Y\n",
       "0  C3  1.19  622.55     NaN   89.31  7.00  1.98  0.0  0.0  15.55\n",
       "1  C1  1.19  622.55  323.40  109.15  7.70  3.00  0.0  0.0  15.55\n",
       "2  C1  0.88  463.05  291.06   99.23  5.67  4.40  0.0  0.0  15.55\n",
       "3  C2  0.79  509.36  291.06  121.28  6.30  4.05  0.0  0.0  15.55\n",
       "4  C1  0.89  507.15  385.39  121.28  7.70  2.00  0.0  0.0  20.84"
      ]
     },
     "execution_count": 2,
     "metadata": {},
     "output_type": "execute_result"
    }
   ],
   "source": [
    "import pandas as pd\n",
    "data = pd.read_csv('datcw_na.csv',header='infer')\n",
    "data.head() #Loading a data frame of the first five rows of data"
   ]
  },
  {
   "cell_type": "markdown",
   "metadata": {},
   "source": [
    "<h3>Data Structure</h3>\n",
    "\n",
    "A quick look at the structure of the data can be seen using data.head() which shows the first 5 rows of the dataframe. data.describe() shows a summary of the numerical attributes; mean and standard deviation will be particularly useful for preprocessing the data when we need to fill empty (NaN) values."
   ]
  },
  {
   "cell_type": "code",
   "execution_count": 22,
   "metadata": {},
   "outputs": [
    {
     "data": {
      "text/html": [
       "<div>\n",
       "<style scoped>\n",
       "    .dataframe tbody tr th:only-of-type {\n",
       "        vertical-align: middle;\n",
       "    }\n",
       "\n",
       "    .dataframe tbody tr th {\n",
       "        vertical-align: top;\n",
       "    }\n",
       "\n",
       "    .dataframe thead th {\n",
       "        text-align: right;\n",
       "    }\n",
       "</style>\n",
       "<table border=\"1\" class=\"dataframe\">\n",
       "  <thead>\n",
       "    <tr style=\"text-align: right;\">\n",
       "      <th></th>\n",
       "      <th>X1</th>\n",
       "      <th>X2</th>\n",
       "      <th>X3</th>\n",
       "      <th>X4</th>\n",
       "      <th>X5</th>\n",
       "      <th>X6</th>\n",
       "      <th>X7</th>\n",
       "      <th>X8</th>\n",
       "      <th>Y</th>\n",
       "    </tr>\n",
       "  </thead>\n",
       "  <tbody>\n",
       "    <tr>\n",
       "      <th>count</th>\n",
       "      <td>768.000000</td>\n",
       "      <td>768.000000</td>\n",
       "      <td>728.000000</td>\n",
       "      <td>768.000000</td>\n",
       "      <td>768.000000</td>\n",
       "      <td>768.000000</td>\n",
       "      <td>768.000000</td>\n",
       "      <td>768.000000</td>\n",
       "      <td>768.000000</td>\n",
       "    </tr>\n",
       "    <tr>\n",
       "      <th>mean</th>\n",
       "      <td>0.763516</td>\n",
       "      <td>666.768997</td>\n",
       "      <td>321.102527</td>\n",
       "      <td>176.564141</td>\n",
       "      <td>5.229766</td>\n",
       "      <td>3.527331</td>\n",
       "      <td>0.237852</td>\n",
       "      <td>2.803737</td>\n",
       "      <td>22.307201</td>\n",
       "    </tr>\n",
       "    <tr>\n",
       "      <th>std</th>\n",
       "      <td>0.147093</td>\n",
       "      <td>120.863329</td>\n",
       "      <td>60.479340</td>\n",
       "      <td>51.280618</td>\n",
       "      <td>1.844813</td>\n",
       "      <td>1.245710</td>\n",
       "      <td>0.139736</td>\n",
       "      <td>1.597817</td>\n",
       "      <td>10.090196</td>\n",
       "    </tr>\n",
       "    <tr>\n",
       "      <th>min</th>\n",
       "      <td>0.500000</td>\n",
       "      <td>416.740000</td>\n",
       "      <td>198.450000</td>\n",
       "      <td>89.310000</td>\n",
       "      <td>2.840000</td>\n",
       "      <td>1.620000</td>\n",
       "      <td>0.000000</td>\n",
       "      <td>0.000000</td>\n",
       "      <td>6.010000</td>\n",
       "    </tr>\n",
       "    <tr>\n",
       "      <th>25%</th>\n",
       "      <td>0.650000</td>\n",
       "      <td>575.510000</td>\n",
       "      <td>277.830000</td>\n",
       "      <td>132.300000</td>\n",
       "      <td>3.470000</td>\n",
       "      <td>2.427500</td>\n",
       "      <td>0.100000</td>\n",
       "      <td>1.517500</td>\n",
       "      <td>12.992500</td>\n",
       "    </tr>\n",
       "    <tr>\n",
       "      <th>50%</th>\n",
       "      <td>0.750000</td>\n",
       "      <td>661.500000</td>\n",
       "      <td>315.320000</td>\n",
       "      <td>178.235000</td>\n",
       "      <td>4.955000</td>\n",
       "      <td>3.600000</td>\n",
       "      <td>0.240000</td>\n",
       "      <td>2.970000</td>\n",
       "      <td>18.950000</td>\n",
       "    </tr>\n",
       "    <tr>\n",
       "      <th>75%</th>\n",
       "      <td>0.860000</td>\n",
       "      <td>741.130000</td>\n",
       "      <td>355.740000</td>\n",
       "      <td>218.300000</td>\n",
       "      <td>6.930000</td>\n",
       "      <td>4.425000</td>\n",
       "      <td>0.360000</td>\n",
       "      <td>3.960000</td>\n",
       "      <td>31.667500</td>\n",
       "    </tr>\n",
       "    <tr>\n",
       "      <th>max</th>\n",
       "      <td>1.190000</td>\n",
       "      <td>978.290000</td>\n",
       "      <td>503.970000</td>\n",
       "      <td>266.800000</td>\n",
       "      <td>8.470000</td>\n",
       "      <td>6.050000</td>\n",
       "      <td>0.480000</td>\n",
       "      <td>6.050000</td>\n",
       "      <td>43.100000</td>\n",
       "    </tr>\n",
       "  </tbody>\n",
       "</table>\n",
       "</div>"
      ],
      "text/plain": [
       "               X1          X2          X3          X4          X5          X6  \\\n",
       "count  768.000000  768.000000  728.000000  768.000000  768.000000  768.000000   \n",
       "mean     0.763516  666.768997  321.102527  176.564141    5.229766    3.527331   \n",
       "std      0.147093  120.863329   60.479340   51.280618    1.844813    1.245710   \n",
       "min      0.500000  416.740000  198.450000   89.310000    2.840000    1.620000   \n",
       "25%      0.650000  575.510000  277.830000  132.300000    3.470000    2.427500   \n",
       "50%      0.750000  661.500000  315.320000  178.235000    4.955000    3.600000   \n",
       "75%      0.860000  741.130000  355.740000  218.300000    6.930000    4.425000   \n",
       "max      1.190000  978.290000  503.970000  266.800000    8.470000    6.050000   \n",
       "\n",
       "               X7          X8           Y  \n",
       "count  768.000000  768.000000  768.000000  \n",
       "mean     0.237852    2.803737   22.307201  \n",
       "std      0.139736    1.597817   10.090196  \n",
       "min      0.000000    0.000000    6.010000  \n",
       "25%      0.100000    1.517500   12.992500  \n",
       "50%      0.240000    2.970000   18.950000  \n",
       "75%      0.360000    3.960000   31.667500  \n",
       "max      0.480000    6.050000   43.100000  "
      ]
     },
     "execution_count": 22,
     "metadata": {},
     "output_type": "execute_result"
    }
   ],
   "source": [
    "data.describe()"
   ]
  },
  {
   "cell_type": "markdown",
   "metadata": {},
   "source": [
    "<h3>Data Correlations</h3>\n",
    "\n",
    "By looking at correlations in the dataset with respect to the 'Y' variable, we can see what variables are more or less correlated to the label variable of Y. A higher number closer to one means a stronger correlation and vice versa."
   ]
  },
  {
   "cell_type": "code",
   "execution_count": 23,
   "metadata": {},
   "outputs": [
    {
     "data": {
      "text/plain": [
       "Y     1.000000\n",
       "X5    0.815769\n",
       "X1    0.454177\n",
       "X3    0.312449\n",
       "X7    0.255901\n",
       "X8    0.087106\n",
       "X6    0.001340\n",
       "X2   -0.481192\n",
       "X4   -0.771040\n",
       "Name: Y, dtype: float64"
      ]
     },
     "execution_count": 23,
     "metadata": {},
     "output_type": "execute_result"
    }
   ],
   "source": [
    "corr_matrix = data.corr() #Looking for correlations in the dataset with respect to 'Y'\n",
    "corr_matrix[\"Y\"].sort_values(ascending=False)"
   ]
  },
  {
   "cell_type": "markdown",
   "metadata": {},
   "source": [
    "<h3>Creating a test set</h3>\n",
    "\n",
    "Before continuing with data visualisaiton, the data needs to be split into a training set and test set which will comprise of a 70/30 split respectively. This is critical for this project, since we will need to evaluate the best models on the test set at the end, which is unseen data. Testing on the test set will provide a greater benchmark on each model's performance, since the data is unseen as opposed to the training data."
   ]
  },
  {
   "cell_type": "code",
   "execution_count": 4,
   "metadata": {},
   "outputs": [],
   "source": [
    "from sklearn.model_selection import train_test_split\n",
    "\n",
    "train_set, test_set = train_test_split(data, test_size=0.3, random_state=42)"
   ]
  },
  {
   "cell_type": "markdown",
   "metadata": {},
   "source": [
    "<h3>Data Visualisation</h3> \n",
    "\n",
    "In addition to inspecting data information and correlations, it's also important to visualise the data, which can be plotted using the matplotlib library. This can give a different perspective on the data we are dealing with. Below are 9 histograms of each numerical, X0 is not included since it is an object attribute. "
   ]
  },
  {
   "cell_type": "code",
   "execution_count": 25,
   "metadata": {},
   "outputs": [
    {
     "data": {
      "image/png": "[encoded data removed]",
      "text/plain": [
       "<Figure size 1440x1080 with 9 Axes>"
      ]
     },
     "metadata": {
      "needs_background": "light"
     },
     "output_type": "display_data"
    }
   ],
   "source": [
    "%matplotlib inline\n",
    "import matplotlib.pyplot as plt\n",
    "data.hist(bins=50, figsize=(20,15))\n",
    "plt.show()"
   ]
  },
  {
   "cell_type": "code",
   "execution_count": 26,
   "metadata": {},
   "outputs": [
    {
     "data": {
      "text/plain": [
       "<matplotlib.axes._subplots.AxesSubplot at 0x225b24e3358>"
      ]
     },
     "execution_count": 26,
     "metadata": {},
     "output_type": "execute_result"
    },
    {
     "data": {
      "image/png": "[encoded data removed]",
      "text/plain": [
       "<Figure size 432x288 with 1 Axes>"
      ]
     },
     "metadata": {
      "needs_background": "light"
     },
     "output_type": "display_data"
    }
   ],
   "source": [
    "#We can inspect attributes individually via:\n",
    "data[\"X1\"].hist()"
   ]
  },
  {
   "cell_type": "markdown",
   "metadata": {},
   "source": [
    "<h3>Scatter Matrix </h3>\n",
    "\n",
    "Another method of data visualisation is a scatter matrix, which is a grid of scatter plots used to visualise bivariate relationships between different variables."
   ]
  },
  {
   "cell_type": "code",
   "execution_count": 27,
   "metadata": {},
   "outputs": [
    {
     "data": {
      "text/plain": [
       "array([[<matplotlib.axes._subplots.AxesSubplot object at 0x00000225B2946CC0>,\n",
       "        <matplotlib.axes._subplots.AxesSubplot object at 0x00000225B2965A90>,\n",
       "        <matplotlib.axes._subplots.AxesSubplot object at 0x00000225B2999CF8>,\n",
       "        <matplotlib.axes._subplots.AxesSubplot object at 0x00000225B29C9FD0>],\n",
       "       [<matplotlib.axes._subplots.AxesSubplot object at 0x00000225B2A083C8>,\n",
       "        <matplotlib.axes._subplots.AxesSubplot object at 0x00000225B2A39748>,\n",
       "        <matplotlib.axes._subplots.AxesSubplot object at 0x00000225B2A6CAC8>,\n",
       "        <matplotlib.axes._subplots.AxesSubplot object at 0x00000225B2A9EE10>],\n",
       "       [<matplotlib.axes._subplots.AxesSubplot object at 0x00000225B2A9EE80>,\n",
       "        <matplotlib.axes._subplots.AxesSubplot object at 0x00000225B2B10588>,\n",
       "        <matplotlib.axes._subplots.AxesSubplot object at 0x00000225B2B41908>,\n",
       "        <matplotlib.axes._subplots.AxesSubplot object at 0x00000225B2B75C88>],\n",
       "       [<matplotlib.axes._subplots.AxesSubplot object at 0x00000225B2BA8FD0>,\n",
       "        <matplotlib.axes._subplots.AxesSubplot object at 0x00000225B2BE73C8>,\n",
       "        <matplotlib.axes._subplots.AxesSubplot object at 0x00000225B2C18748>,\n",
       "        <matplotlib.axes._subplots.AxesSubplot object at 0x00000225B2C49AC8>]],\n",
       "      dtype=object)"
      ]
     },
     "execution_count": 27,
     "metadata": {},
     "output_type": "execute_result"
    },
    {
     "data": {
      "image/png": "[encoded data removed]",
      "text/plain": [
       "<Figure size 864x576 with 16 Axes>"
      ]
     },
     "metadata": {
      "needs_background": "light"
     },
     "output_type": "display_data"
    }
   ],
   "source": [
    "from pandas.plotting import scatter_matrix\n",
    "attributes = [\"X1\", \"X3\", \"X5\",\n",
    " \"Y\"]\n",
    "scatter_matrix(data[attributes], figsize=(12, 8))"
   ]
  },
  {
   "cell_type": "markdown",
   "metadata": {},
   "source": [
    "<h4>Insight</h4>\n",
    "\n",
    "The scatter matrix shows a strong correlation between X1 and Y, which is also true of the original correlation matrix earlier in the notebook. We can zoom in on the relationship using a correlation scatterplot."
   ]
  },
  {
   "cell_type": "code",
   "execution_count": 28,
   "metadata": {},
   "outputs": [
    {
     "data": {
      "text/plain": [
       "<matplotlib.axes._subplots.AxesSubplot at 0x225b24e3898>"
      ]
     },
     "execution_count": 28,
     "metadata": {},
     "output_type": "execute_result"
    },
    {
     "data": {
      "image/png": "[encoded data removed]",
      "text/plain": [
       "<Figure size 432x288 with 1 Axes>"
      ]
     },
     "metadata": {
      "needs_background": "light"
     },
     "output_type": "display_data"
    }
   ],
   "source": [
    "data.plot(kind=\"scatter\", x=\"X1\", y=\"Y\")"
   ]
  },
  {
   "cell_type": "markdown",
   "metadata": {},
   "source": [
    "<h2>Data preparation</h2>\n",
    "\n",
    "After visualising and gaining some insight on the dataset, it's now time to preprocess the data accordingly. This step is critical for the next stage of this project, which will be building the models using the training set. As mentioned previously, there are some missing values in the dataset.  One of the most important steps in data preperation will be to fill this missing values, typically with the mean or median. We will be using the mean for this task.\n",
    "\n",
    "Since X0 is an object attribute, we will need to drop it from the training set to proceed with building the models. This is because most machine learning algorithms can only handle numeric data. We start by dropping Y, which is what we are predicting, and then creating a copy of the training set with Y which will be needed when fitting the models as a benchmark for predicting new values and then comparing them with the current values in the dataset. "
   ]
  },
  {
   "cell_type": "code",
   "execution_count": 5,
   "metadata": {},
   "outputs": [],
   "source": [
    "data = train_set.drop(\"Y\", axis=1) # drop labels for training set\n",
    "data_labels = train_set[\"Y\"].copy()"
   ]
  },
  {
   "cell_type": "markdown",
   "metadata": {},
   "source": [
    "A typical method of filling NaN values in the dataset with the median. This will iterate over the entire dataset, filling any missing values with the median."
   ]
  },
  {
   "cell_type": "code",
   "execution_count": 6,
   "metadata": {},
   "outputs": [],
   "source": [
    "for i in data.columns[data.isnull().any(axis=0)]:   #---Applying Only on variables with NaN values\n",
    "    data[i].fillna(data[i].median(),inplace=True)"
   ]
  },
  {
   "cell_type": "code",
   "execution_count": 31,
   "metadata": {},
   "outputs": [
    {
     "data": {
      "text/html": [
       "<div>\n",
       "<style scoped>\n",
       "    .dataframe tbody tr th:only-of-type {\n",
       "        vertical-align: middle;\n",
       "    }\n",
       "\n",
       "    .dataframe tbody tr th {\n",
       "        vertical-align: top;\n",
       "    }\n",
       "\n",
       "    .dataframe thead th {\n",
       "        text-align: right;\n",
       "    }\n",
       "</style>\n",
       "<table border=\"1\" class=\"dataframe\">\n",
       "  <thead>\n",
       "    <tr style=\"text-align: right;\">\n",
       "      <th></th>\n",
       "      <th>X0</th>\n",
       "      <th>X1</th>\n",
       "      <th>X2</th>\n",
       "      <th>X3</th>\n",
       "      <th>X4</th>\n",
       "      <th>X5</th>\n",
       "      <th>X6</th>\n",
       "      <th>X7</th>\n",
       "      <th>X8</th>\n",
       "    </tr>\n",
       "  </thead>\n",
       "  <tbody>\n",
       "    <tr>\n",
       "      <th>334</th>\n",
       "      <td>C3</td>\n",
       "      <td>0.61</td>\n",
       "      <td>800.42</td>\n",
       "      <td>363.82</td>\n",
       "      <td>242.55</td>\n",
       "      <td>2.84</td>\n",
       "      <td>3.96</td>\n",
       "      <td>0.24</td>\n",
       "      <td>0.99</td>\n",
       "    </tr>\n",
       "    <tr>\n",
       "      <th>139</th>\n",
       "      <td>C3</td>\n",
       "      <td>0.63</td>\n",
       "      <td>705.60</td>\n",
       "      <td>339.57</td>\n",
       "      <td>198.45</td>\n",
       "      <td>3.85</td>\n",
       "      <td>6.05</td>\n",
       "      <td>0.10</td>\n",
       "      <td>1.98</td>\n",
       "    </tr>\n",
       "    <tr>\n",
       "      <th>485</th>\n",
       "      <td>C2</td>\n",
       "      <td>0.99</td>\n",
       "      <td>557.86</td>\n",
       "      <td>315.32</td>\n",
       "      <td>110.25</td>\n",
       "      <td>6.30</td>\n",
       "      <td>3.30</td>\n",
       "      <td>0.28</td>\n",
       "      <td>5.00</td>\n",
       "    </tr>\n",
       "    <tr>\n",
       "      <th>547</th>\n",
       "      <td>C1</td>\n",
       "      <td>0.71</td>\n",
       "      <td>630.63</td>\n",
       "      <td>339.57</td>\n",
       "      <td>119.07</td>\n",
       "      <td>7.70</td>\n",
       "      <td>6.05</td>\n",
       "      <td>0.36</td>\n",
       "      <td>0.99</td>\n",
       "    </tr>\n",
       "    <tr>\n",
       "      <th>18</th>\n",
       "      <td>C2</td>\n",
       "      <td>0.71</td>\n",
       "      <td>630.63</td>\n",
       "      <td>377.30</td>\n",
       "      <td>119.07</td>\n",
       "      <td>5.67</td>\n",
       "      <td>3.60</td>\n",
       "      <td>0.00</td>\n",
       "      <td>0.00</td>\n",
       "    </tr>\n",
       "    <tr>\n",
       "      <th>...</th>\n",
       "      <td>...</td>\n",
       "      <td>...</td>\n",
       "      <td>...</td>\n",
       "      <td>...</td>\n",
       "      <td>...</td>\n",
       "      <td>...</td>\n",
       "      <td>...</td>\n",
       "      <td>...</td>\n",
       "      <td>...</td>\n",
       "    </tr>\n",
       "    <tr>\n",
       "      <th>71</th>\n",
       "      <td>C2</td>\n",
       "      <td>0.75</td>\n",
       "      <td>654.89</td>\n",
       "      <td>416.50</td>\n",
       "      <td>121.28</td>\n",
       "      <td>8.47</td>\n",
       "      <td>4.05</td>\n",
       "      <td>0.09</td>\n",
       "      <td>0.90</td>\n",
       "    </tr>\n",
       "    <tr>\n",
       "      <th>106</th>\n",
       "      <td>C2</td>\n",
       "      <td>1.04</td>\n",
       "      <td>582.12</td>\n",
       "      <td>291.06</td>\n",
       "      <td>161.70</td>\n",
       "      <td>7.70</td>\n",
       "      <td>3.96</td>\n",
       "      <td>0.09</td>\n",
       "      <td>2.42</td>\n",
       "    </tr>\n",
       "    <tr>\n",
       "      <th>270</th>\n",
       "      <td>C2</td>\n",
       "      <td>0.86</td>\n",
       "      <td>575.51</td>\n",
       "      <td>326.10</td>\n",
       "      <td>242.55</td>\n",
       "      <td>3.47</td>\n",
       "      <td>4.84</td>\n",
       "      <td>0.12</td>\n",
       "      <td>6.05</td>\n",
       "    </tr>\n",
       "    <tr>\n",
       "      <th>435</th>\n",
       "      <td>C2</td>\n",
       "      <td>0.97</td>\n",
       "      <td>509.36</td>\n",
       "      <td>355.74</td>\n",
       "      <td>109.15</td>\n",
       "      <td>6.93</td>\n",
       "      <td>6.05</td>\n",
       "      <td>0.31</td>\n",
       "      <td>3.24</td>\n",
       "    </tr>\n",
       "    <tr>\n",
       "      <th>102</th>\n",
       "      <td>C3</td>\n",
       "      <td>0.99</td>\n",
       "      <td>557.86</td>\n",
       "      <td>257.98</td>\n",
       "      <td>110.25</td>\n",
       "      <td>6.30</td>\n",
       "      <td>3.96</td>\n",
       "      <td>0.08</td>\n",
       "      <td>2.20</td>\n",
       "    </tr>\n",
       "  </tbody>\n",
       "</table>\n",
       "<p>537 rows × 9 columns</p>\n",
       "</div>"
      ],
      "text/plain": [
       "     X0    X1      X2      X3      X4    X5    X6    X7    X8\n",
       "334  C3  0.61  800.42  363.82  242.55  2.84  3.96  0.24  0.99\n",
       "139  C3  0.63  705.60  339.57  198.45  3.85  6.05  0.10  1.98\n",
       "485  C2  0.99  557.86  315.32  110.25  6.30  3.30  0.28  5.00\n",
       "547  C1  0.71  630.63  339.57  119.07  7.70  6.05  0.36  0.99\n",
       "18   C2  0.71  630.63  377.30  119.07  5.67  3.60  0.00  0.00\n",
       "..   ..   ...     ...     ...     ...   ...   ...   ...   ...\n",
       "71   C2  0.75  654.89  416.50  121.28  8.47  4.05  0.09  0.90\n",
       "106  C2  1.04  582.12  291.06  161.70  7.70  3.96  0.09  2.42\n",
       "270  C2  0.86  575.51  326.10  242.55  3.47  4.84  0.12  6.05\n",
       "435  C2  0.97  509.36  355.74  109.15  6.93  6.05  0.31  3.24\n",
       "102  C3  0.99  557.86  257.98  110.25  6.30  3.96  0.08  2.20\n",
       "\n",
       "[537 rows x 9 columns]"
      ]
     },
     "execution_count": 31,
     "metadata": {},
     "output_type": "execute_result"
    }
   ],
   "source": [
    "data"
   ]
  },
  {
   "cell_type": "markdown",
   "metadata": {},
   "source": [
    "<h3>Imputer for filling missing values</h3>\n",
    "\n",
    "We can also use an Imputer to fill the missing values, which is provided by Scikit-Learn - SimpleImputer. We will use the mean in this case."
   ]
  },
  {
   "cell_type": "code",
   "execution_count": 7,
   "metadata": {},
   "outputs": [],
   "source": [
    "imputer = SimpleImputer(strategy=\"mean\")"
   ]
  },
  {
   "cell_type": "code",
   "execution_count": 8,
   "metadata": {},
   "outputs": [],
   "source": [
    "data_num = data.drop(\"X0\", axis=1) #Dropping X0 because it's an object type"
   ]
  },
  {
   "cell_type": "code",
   "execution_count": 34,
   "metadata": {},
   "outputs": [
    {
     "data": {
      "text/html": [
       "<div>\n",
       "<style scoped>\n",
       "    .dataframe tbody tr th:only-of-type {\n",
       "        vertical-align: middle;\n",
       "    }\n",
       "\n",
       "    .dataframe tbody tr th {\n",
       "        vertical-align: top;\n",
       "    }\n",
       "\n",
       "    .dataframe thead th {\n",
       "        text-align: right;\n",
       "    }\n",
       "</style>\n",
       "<table border=\"1\" class=\"dataframe\">\n",
       "  <thead>\n",
       "    <tr style=\"text-align: right;\">\n",
       "      <th></th>\n",
       "      <th>X1</th>\n",
       "      <th>X2</th>\n",
       "      <th>X3</th>\n",
       "      <th>X4</th>\n",
       "      <th>X5</th>\n",
       "      <th>X6</th>\n",
       "      <th>X7</th>\n",
       "      <th>X8</th>\n",
       "    </tr>\n",
       "  </thead>\n",
       "  <tbody>\n",
       "    <tr>\n",
       "      <th>334</th>\n",
       "      <td>0.61</td>\n",
       "      <td>800.42</td>\n",
       "      <td>363.82</td>\n",
       "      <td>242.55</td>\n",
       "      <td>2.84</td>\n",
       "      <td>3.96</td>\n",
       "      <td>0.24</td>\n",
       "      <td>0.99</td>\n",
       "    </tr>\n",
       "    <tr>\n",
       "      <th>139</th>\n",
       "      <td>0.63</td>\n",
       "      <td>705.60</td>\n",
       "      <td>339.57</td>\n",
       "      <td>198.45</td>\n",
       "      <td>3.85</td>\n",
       "      <td>6.05</td>\n",
       "      <td>0.10</td>\n",
       "      <td>1.98</td>\n",
       "    </tr>\n",
       "    <tr>\n",
       "      <th>485</th>\n",
       "      <td>0.99</td>\n",
       "      <td>557.86</td>\n",
       "      <td>315.32</td>\n",
       "      <td>110.25</td>\n",
       "      <td>6.30</td>\n",
       "      <td>3.30</td>\n",
       "      <td>0.28</td>\n",
       "      <td>5.00</td>\n",
       "    </tr>\n",
       "    <tr>\n",
       "      <th>547</th>\n",
       "      <td>0.71</td>\n",
       "      <td>630.63</td>\n",
       "      <td>339.57</td>\n",
       "      <td>119.07</td>\n",
       "      <td>7.70</td>\n",
       "      <td>6.05</td>\n",
       "      <td>0.36</td>\n",
       "      <td>0.99</td>\n",
       "    </tr>\n",
       "    <tr>\n",
       "      <th>18</th>\n",
       "      <td>0.71</td>\n",
       "      <td>630.63</td>\n",
       "      <td>377.30</td>\n",
       "      <td>119.07</td>\n",
       "      <td>5.67</td>\n",
       "      <td>3.60</td>\n",
       "      <td>0.00</td>\n",
       "      <td>0.00</td>\n",
       "    </tr>\n",
       "    <tr>\n",
       "      <th>...</th>\n",
       "      <td>...</td>\n",
       "      <td>...</td>\n",
       "      <td>...</td>\n",
       "      <td>...</td>\n",
       "      <td>...</td>\n",
       "      <td>...</td>\n",
       "      <td>...</td>\n",
       "      <td>...</td>\n",
       "    </tr>\n",
       "    <tr>\n",
       "      <th>71</th>\n",
       "      <td>0.75</td>\n",
       "      <td>654.89</td>\n",
       "      <td>416.50</td>\n",
       "      <td>121.28</td>\n",
       "      <td>8.47</td>\n",
       "      <td>4.05</td>\n",
       "      <td>0.09</td>\n",
       "      <td>0.90</td>\n",
       "    </tr>\n",
       "    <tr>\n",
       "      <th>106</th>\n",
       "      <td>1.04</td>\n",
       "      <td>582.12</td>\n",
       "      <td>291.06</td>\n",
       "      <td>161.70</td>\n",
       "      <td>7.70</td>\n",
       "      <td>3.96</td>\n",
       "      <td>0.09</td>\n",
       "      <td>2.42</td>\n",
       "    </tr>\n",
       "    <tr>\n",
       "      <th>270</th>\n",
       "      <td>0.86</td>\n",
       "      <td>575.51</td>\n",
       "      <td>326.10</td>\n",
       "      <td>242.55</td>\n",
       "      <td>3.47</td>\n",
       "      <td>4.84</td>\n",
       "      <td>0.12</td>\n",
       "      <td>6.05</td>\n",
       "    </tr>\n",
       "    <tr>\n",
       "      <th>435</th>\n",
       "      <td>0.97</td>\n",
       "      <td>509.36</td>\n",
       "      <td>355.74</td>\n",
       "      <td>109.15</td>\n",
       "      <td>6.93</td>\n",
       "      <td>6.05</td>\n",
       "      <td>0.31</td>\n",
       "      <td>3.24</td>\n",
       "    </tr>\n",
       "    <tr>\n",
       "      <th>102</th>\n",
       "      <td>0.99</td>\n",
       "      <td>557.86</td>\n",
       "      <td>257.98</td>\n",
       "      <td>110.25</td>\n",
       "      <td>6.30</td>\n",
       "      <td>3.96</td>\n",
       "      <td>0.08</td>\n",
       "      <td>2.20</td>\n",
       "    </tr>\n",
       "  </tbody>\n",
       "</table>\n",
       "<p>537 rows × 8 columns</p>\n",
       "</div>"
      ],
      "text/plain": [
       "       X1      X2      X3      X4    X5    X6    X7    X8\n",
       "334  0.61  800.42  363.82  242.55  2.84  3.96  0.24  0.99\n",
       "139  0.63  705.60  339.57  198.45  3.85  6.05  0.10  1.98\n",
       "485  0.99  557.86  315.32  110.25  6.30  3.30  0.28  5.00\n",
       "547  0.71  630.63  339.57  119.07  7.70  6.05  0.36  0.99\n",
       "18   0.71  630.63  377.30  119.07  5.67  3.60  0.00  0.00\n",
       "..    ...     ...     ...     ...   ...   ...   ...   ...\n",
       "71   0.75  654.89  416.50  121.28  8.47  4.05  0.09  0.90\n",
       "106  1.04  582.12  291.06  161.70  7.70  3.96  0.09  2.42\n",
       "270  0.86  575.51  326.10  242.55  3.47  4.84  0.12  6.05\n",
       "435  0.97  509.36  355.74  109.15  6.93  6.05  0.31  3.24\n",
       "102  0.99  557.86  257.98  110.25  6.30  3.96  0.08  2.20\n",
       "\n",
       "[537 rows x 8 columns]"
      ]
     },
     "execution_count": 34,
     "metadata": {},
     "output_type": "execute_result"
    }
   ],
   "source": [
    "data_num"
   ]
  },
  {
   "cell_type": "code",
   "execution_count": 9,
   "metadata": {},
   "outputs": [
    {
     "data": {
      "text/plain": [
       "SimpleImputer()"
      ]
     },
     "execution_count": 9,
     "metadata": {},
     "output_type": "execute_result"
    }
   ],
   "source": [
    "imputer.fit(data_num)"
   ]
  },
  {
   "cell_type": "code",
   "execution_count": 10,
   "metadata": {},
   "outputs": [
    {
     "data": {
      "text/plain": [
       "array([7.61806331e-01, 6.69495810e+02, 3.19925754e+02, 1.77796406e+02,\n",
       "       5.17992551e+00, 3.52782123e+00, 2.39310987e-01, 2.84810056e+00])"
      ]
     },
     "execution_count": 10,
     "metadata": {},
     "output_type": "execute_result"
    }
   ],
   "source": [
    "imputer.statistics_"
   ]
  },
  {
   "cell_type": "code",
   "execution_count": 11,
   "metadata": {},
   "outputs": [
    {
     "data": {
      "text/plain": [
       "array([7.61806331e-01, 6.69495810e+02, 3.19925754e+02, 1.77796406e+02,\n",
       "       5.17992551e+00, 3.52782123e+00, 2.39310987e-01, 2.84810056e+00])"
      ]
     },
     "execution_count": 11,
     "metadata": {},
     "output_type": "execute_result"
    }
   ],
   "source": [
    "data_num.mean().values"
   ]
  },
  {
   "cell_type": "code",
   "execution_count": 12,
   "metadata": {},
   "outputs": [],
   "source": [
    "X = imputer.transform(data_num)"
   ]
  },
  {
   "cell_type": "code",
   "execution_count": 13,
   "metadata": {},
   "outputs": [],
   "source": [
    "data_tr = pd.DataFrame(X, columns=data_num.columns,\n",
    "                          index=data.index)"
   ]
  },
  {
   "cell_type": "code",
   "execution_count": 14,
   "metadata": {},
   "outputs": [
    {
     "data": {
      "text/html": [
       "<div>\n",
       "<style scoped>\n",
       "    .dataframe tbody tr th:only-of-type {\n",
       "        vertical-align: middle;\n",
       "    }\n",
       "\n",
       "    .dataframe tbody tr th {\n",
       "        vertical-align: top;\n",
       "    }\n",
       "\n",
       "    .dataframe thead th {\n",
       "        text-align: right;\n",
       "    }\n",
       "</style>\n",
       "<table border=\"1\" class=\"dataframe\">\n",
       "  <thead>\n",
       "    <tr style=\"text-align: right;\">\n",
       "      <th></th>\n",
       "      <th>X1</th>\n",
       "      <th>X2</th>\n",
       "      <th>X3</th>\n",
       "      <th>X4</th>\n",
       "      <th>X5</th>\n",
       "      <th>X6</th>\n",
       "      <th>X7</th>\n",
       "      <th>X8</th>\n",
       "    </tr>\n",
       "  </thead>\n",
       "  <tbody>\n",
       "    <tr>\n",
       "      <th>334</th>\n",
       "      <td>0.61</td>\n",
       "      <td>800.42</td>\n",
       "      <td>363.82</td>\n",
       "      <td>242.55</td>\n",
       "      <td>2.84</td>\n",
       "      <td>3.96</td>\n",
       "      <td>0.24</td>\n",
       "      <td>0.99</td>\n",
       "    </tr>\n",
       "    <tr>\n",
       "      <th>139</th>\n",
       "      <td>0.63</td>\n",
       "      <td>705.60</td>\n",
       "      <td>339.57</td>\n",
       "      <td>198.45</td>\n",
       "      <td>3.85</td>\n",
       "      <td>6.05</td>\n",
       "      <td>0.10</td>\n",
       "      <td>1.98</td>\n",
       "    </tr>\n",
       "    <tr>\n",
       "      <th>485</th>\n",
       "      <td>0.99</td>\n",
       "      <td>557.86</td>\n",
       "      <td>315.32</td>\n",
       "      <td>110.25</td>\n",
       "      <td>6.30</td>\n",
       "      <td>3.30</td>\n",
       "      <td>0.28</td>\n",
       "      <td>5.00</td>\n",
       "    </tr>\n",
       "    <tr>\n",
       "      <th>547</th>\n",
       "      <td>0.71</td>\n",
       "      <td>630.63</td>\n",
       "      <td>339.57</td>\n",
       "      <td>119.07</td>\n",
       "      <td>7.70</td>\n",
       "      <td>6.05</td>\n",
       "      <td>0.36</td>\n",
       "      <td>0.99</td>\n",
       "    </tr>\n",
       "    <tr>\n",
       "      <th>18</th>\n",
       "      <td>0.71</td>\n",
       "      <td>630.63</td>\n",
       "      <td>377.30</td>\n",
       "      <td>119.07</td>\n",
       "      <td>5.67</td>\n",
       "      <td>3.60</td>\n",
       "      <td>0.00</td>\n",
       "      <td>0.00</td>\n",
       "    </tr>\n",
       "    <tr>\n",
       "      <th>...</th>\n",
       "      <td>...</td>\n",
       "      <td>...</td>\n",
       "      <td>...</td>\n",
       "      <td>...</td>\n",
       "      <td>...</td>\n",
       "      <td>...</td>\n",
       "      <td>...</td>\n",
       "      <td>...</td>\n",
       "    </tr>\n",
       "    <tr>\n",
       "      <th>71</th>\n",
       "      <td>0.75</td>\n",
       "      <td>654.89</td>\n",
       "      <td>416.50</td>\n",
       "      <td>121.28</td>\n",
       "      <td>8.47</td>\n",
       "      <td>4.05</td>\n",
       "      <td>0.09</td>\n",
       "      <td>0.90</td>\n",
       "    </tr>\n",
       "    <tr>\n",
       "      <th>106</th>\n",
       "      <td>1.04</td>\n",
       "      <td>582.12</td>\n",
       "      <td>291.06</td>\n",
       "      <td>161.70</td>\n",
       "      <td>7.70</td>\n",
       "      <td>3.96</td>\n",
       "      <td>0.09</td>\n",
       "      <td>2.42</td>\n",
       "    </tr>\n",
       "    <tr>\n",
       "      <th>270</th>\n",
       "      <td>0.86</td>\n",
       "      <td>575.51</td>\n",
       "      <td>326.10</td>\n",
       "      <td>242.55</td>\n",
       "      <td>3.47</td>\n",
       "      <td>4.84</td>\n",
       "      <td>0.12</td>\n",
       "      <td>6.05</td>\n",
       "    </tr>\n",
       "    <tr>\n",
       "      <th>435</th>\n",
       "      <td>0.97</td>\n",
       "      <td>509.36</td>\n",
       "      <td>355.74</td>\n",
       "      <td>109.15</td>\n",
       "      <td>6.93</td>\n",
       "      <td>6.05</td>\n",
       "      <td>0.31</td>\n",
       "      <td>3.24</td>\n",
       "    </tr>\n",
       "    <tr>\n",
       "      <th>102</th>\n",
       "      <td>0.99</td>\n",
       "      <td>557.86</td>\n",
       "      <td>257.98</td>\n",
       "      <td>110.25</td>\n",
       "      <td>6.30</td>\n",
       "      <td>3.96</td>\n",
       "      <td>0.08</td>\n",
       "      <td>2.20</td>\n",
       "    </tr>\n",
       "  </tbody>\n",
       "</table>\n",
       "<p>537 rows × 8 columns</p>\n",
       "</div>"
      ],
      "text/plain": [
       "       X1      X2      X3      X4    X5    X6    X7    X8\n",
       "334  0.61  800.42  363.82  242.55  2.84  3.96  0.24  0.99\n",
       "139  0.63  705.60  339.57  198.45  3.85  6.05  0.10  1.98\n",
       "485  0.99  557.86  315.32  110.25  6.30  3.30  0.28  5.00\n",
       "547  0.71  630.63  339.57  119.07  7.70  6.05  0.36  0.99\n",
       "18   0.71  630.63  377.30  119.07  5.67  3.60  0.00  0.00\n",
       "..    ...     ...     ...     ...   ...   ...   ...   ...\n",
       "71   0.75  654.89  416.50  121.28  8.47  4.05  0.09  0.90\n",
       "106  1.04  582.12  291.06  161.70  7.70  3.96  0.09  2.42\n",
       "270  0.86  575.51  326.10  242.55  3.47  4.84  0.12  6.05\n",
       "435  0.97  509.36  355.74  109.15  6.93  6.05  0.31  3.24\n",
       "102  0.99  557.86  257.98  110.25  6.30  3.96  0.08  2.20\n",
       "\n",
       "[537 rows x 8 columns]"
      ]
     },
     "execution_count": 14,
     "metadata": {},
     "output_type": "execute_result"
    }
   ],
   "source": [
    "data_tr.loc[data.index.values]"
   ]
  },
  {
   "cell_type": "code",
   "execution_count": 15,
   "metadata": {},
   "outputs": [
    {
     "data": {
      "text/plain": [
       "'mean'"
      ]
     },
     "execution_count": 15,
     "metadata": {},
     "output_type": "execute_result"
    }
   ],
   "source": [
    "imputer.strategy #Strategy used by the imputer"
   ]
  },
  {
   "cell_type": "code",
   "execution_count": 16,
   "metadata": {},
   "outputs": [],
   "source": [
    "data_tr = pd.DataFrame(X, columns=data_num.columns,\n",
    "                          index=data_num.index)"
   ]
  },
  {
   "cell_type": "code",
   "execution_count": 17,
   "metadata": {},
   "outputs": [
    {
     "data": {
      "text/html": [
       "<div>\n",
       "<style scoped>\n",
       "    .dataframe tbody tr th:only-of-type {\n",
       "        vertical-align: middle;\n",
       "    }\n",
       "\n",
       "    .dataframe tbody tr th {\n",
       "        vertical-align: top;\n",
       "    }\n",
       "\n",
       "    .dataframe thead th {\n",
       "        text-align: right;\n",
       "    }\n",
       "</style>\n",
       "<table border=\"1\" class=\"dataframe\">\n",
       "  <thead>\n",
       "    <tr style=\"text-align: right;\">\n",
       "      <th></th>\n",
       "      <th>X1</th>\n",
       "      <th>X2</th>\n",
       "      <th>X3</th>\n",
       "      <th>X4</th>\n",
       "      <th>X5</th>\n",
       "      <th>X6</th>\n",
       "      <th>X7</th>\n",
       "      <th>X8</th>\n",
       "    </tr>\n",
       "  </thead>\n",
       "  <tbody>\n",
       "    <tr>\n",
       "      <th>334</th>\n",
       "      <td>0.61</td>\n",
       "      <td>800.42</td>\n",
       "      <td>363.82</td>\n",
       "      <td>242.55</td>\n",
       "      <td>2.84</td>\n",
       "      <td>3.96</td>\n",
       "      <td>0.24</td>\n",
       "      <td>0.99</td>\n",
       "    </tr>\n",
       "    <tr>\n",
       "      <th>139</th>\n",
       "      <td>0.63</td>\n",
       "      <td>705.60</td>\n",
       "      <td>339.57</td>\n",
       "      <td>198.45</td>\n",
       "      <td>3.85</td>\n",
       "      <td>6.05</td>\n",
       "      <td>0.10</td>\n",
       "      <td>1.98</td>\n",
       "    </tr>\n",
       "    <tr>\n",
       "      <th>485</th>\n",
       "      <td>0.99</td>\n",
       "      <td>557.86</td>\n",
       "      <td>315.32</td>\n",
       "      <td>110.25</td>\n",
       "      <td>6.30</td>\n",
       "      <td>3.30</td>\n",
       "      <td>0.28</td>\n",
       "      <td>5.00</td>\n",
       "    </tr>\n",
       "    <tr>\n",
       "      <th>547</th>\n",
       "      <td>0.71</td>\n",
       "      <td>630.63</td>\n",
       "      <td>339.57</td>\n",
       "      <td>119.07</td>\n",
       "      <td>7.70</td>\n",
       "      <td>6.05</td>\n",
       "      <td>0.36</td>\n",
       "      <td>0.99</td>\n",
       "    </tr>\n",
       "    <tr>\n",
       "      <th>18</th>\n",
       "      <td>0.71</td>\n",
       "      <td>630.63</td>\n",
       "      <td>377.30</td>\n",
       "      <td>119.07</td>\n",
       "      <td>5.67</td>\n",
       "      <td>3.60</td>\n",
       "      <td>0.00</td>\n",
       "      <td>0.00</td>\n",
       "    </tr>\n",
       "  </tbody>\n",
       "</table>\n",
       "</div>"
      ],
      "text/plain": [
       "       X1      X2      X3      X4    X5    X6    X7    X8\n",
       "334  0.61  800.42  363.82  242.55  2.84  3.96  0.24  0.99\n",
       "139  0.63  705.60  339.57  198.45  3.85  6.05  0.10  1.98\n",
       "485  0.99  557.86  315.32  110.25  6.30  3.30  0.28  5.00\n",
       "547  0.71  630.63  339.57  119.07  7.70  6.05  0.36  0.99\n",
       "18   0.71  630.63  377.30  119.07  5.67  3.60  0.00  0.00"
      ]
     },
     "execution_count": 17,
     "metadata": {},
     "output_type": "execute_result"
    }
   ],
   "source": [
    "data_tr.head() #X3 is now filled with the mean, which was NaN in the original dataframe."
   ]
  },
  {
   "cell_type": "markdown",
   "metadata": {},
   "source": [
    "<h3>Results</h3>\n",
    "\n",
    "The imputer successfully transformed the data to fill missing values with the mean, meaning we can now proceed to the next step of data preparation - One hot encoding."
   ]
  },
  {
   "cell_type": "markdown",
   "metadata": {},
   "source": [
    "<h3>One hot encoding</h3>\n",
    "\n",
    "As mentioned previously, currently X0 is a categorical attribute \"C1-C3\" of type object. These need to be transformed into numerical data before proceeding with model building. Similarly to One hot encoding, we could use ordinal encoding, but this particularly useful for nominal data, that is, data that has an apparent order. We will use one hot encoding in this case since the data is not in order."
   ]
  },
  {
   "cell_type": "code",
   "execution_count": 18,
   "metadata": {},
   "outputs": [
    {
     "name": "stdout",
     "output_type": "stream",
     "text": [
      "     X0\n",
      "334  C3\n",
      "139  C3\n",
      "485  C2\n",
      "547  C1\n",
      "18   C2\n",
      "593  C1\n",
      "140  C1\n",
      "326  C2\n",
      "266  C2\n",
      "626  C1\n"
     ]
    }
   ],
   "source": [
    "data_cat = data[[\"X0\"]] #Creating a copy of data but with X0 since it's an object type and we need to transform it into numeric data\n",
    "\n",
    "print(data_cat.head(10))"
   ]
  },
  {
   "cell_type": "code",
   "execution_count": 19,
   "metadata": {},
   "outputs": [
    {
     "data": {
      "text/plain": [
       "<537x3 sparse matrix of type '<class 'numpy.float64'>'\n",
       "\twith 537 stored elements in Compressed Sparse Row format>"
      ]
     },
     "execution_count": 19,
     "metadata": {},
     "output_type": "execute_result"
    }
   ],
   "source": [
    "from sklearn.preprocessing import OneHotEncoder #One hot encoding as opposed to nominal encoding since values aren't nominal\n",
    "\n",
    "cat_encoder = OneHotEncoder()\n",
    "data_cat_1hot = cat_encoder.fit_transform(data_cat)\n",
    "data_cat_1hot"
   ]
  },
  {
   "cell_type": "code",
   "execution_count": 20,
   "metadata": {},
   "outputs": [
    {
     "data": {
      "text/plain": [
       "array([[0., 0., 1.],\n",
       "       [0., 0., 1.],\n",
       "       [0., 1., 0.],\n",
       "       ...,\n",
       "       [0., 1., 0.],\n",
       "       [0., 1., 0.],\n",
       "       [0., 0., 1.]])"
      ]
     },
     "execution_count": 20,
     "metadata": {},
     "output_type": "execute_result"
    }
   ],
   "source": [
    "data_cat_1hot.toarray()"
   ]
  },
  {
   "cell_type": "markdown",
   "metadata": {},
   "source": [
    "<h3>Results</h3>\n",
    "\n",
    "The data has succesfully been transformed into numerical data using one hot encoding. It works by converting each categorical value into a new categorical column and assign a binary value of 1 or 0 to said columns. We can now proceed with the next step of data preparation which is implementing a transformation pipeline."
   ]
  },
  {
   "cell_type": "markdown",
   "metadata": {},
   "source": [
    "<h3>Transformation pipeline</h3>\n",
    "\n",
    "Pipelines are essential to help automate the machine learning process. It allows sequences of data to be transformed and correlated together. We first define a pipeline constructor that takes an imputer (the one used before) and a standard scaler. Other attributes can be added such as combined attributes if necessary. It's followed by a fit_transform() method, which is utilised by the the pipeline's fit() method, responsible for passing the output of each call as the parameter to the next call.\n",
    "\n",
    "The pipeline will be utilised by the training set and the test set at the end once all models are built and ready to be tested on the unseen data."
   ]
  },
  {
   "cell_type": "code",
   "execution_count": 21,
   "metadata": {},
   "outputs": [],
   "source": [
    "num_pipeline = Pipeline([                 #Transformation pipeline\n",
    "        ('imputer', SimpleImputer(strategy=\"mean\")),\n",
    "        ('std_scaler', StandardScaler()),\n",
    "    ])\n",
    "\n",
    "data_num_tr = num_pipeline.fit_transform(data_num)"
   ]
  },
  {
   "cell_type": "code",
   "execution_count": 22,
   "metadata": {},
   "outputs": [
    {
     "data": {
      "text/plain": [
       "array([[-1.03443078,  1.07099616,  0.74848195, ...,  0.35749091,\n",
       "         0.00490148, -1.16327892],\n",
       "       [-0.89814782,  0.29534228,  0.33497246, ...,  2.08630327,\n",
       "        -0.99102645, -0.54348139],\n",
       "       [ 1.55494538, -0.91321187, -0.07853703, ..., -0.18844984,\n",
       "         0.28945232,  1.34721409],\n",
       "       ...,\n",
       "       [ 0.66910617, -0.76882997,  0.10528286, ...,  1.0854119 ,\n",
       "        -0.84875103,  2.00457511],\n",
       "       [ 1.41866242, -1.30995531,  0.61070229, ...,  2.08630327,\n",
       "         0.50286545,  0.24535182],\n",
       "       [ 1.55494538, -0.91321187, -1.05629515, ...,  0.35749091,\n",
       "        -1.13330187, -0.40574861]])"
      ]
     },
     "execution_count": 22,
     "metadata": {},
     "output_type": "execute_result"
    }
   ],
   "source": [
    "data_num_tr"
   ]
  },
  {
   "cell_type": "code",
   "execution_count": 23,
   "metadata": {},
   "outputs": [],
   "source": [
    "num_attribs = list(data_num)\n",
    "cat_attribs = [\"X0\"]\n",
    "\n",
    "full_pipeline = ColumnTransformer([\n",
    "        (\"num\", num_pipeline, num_attribs),\n",
    "        (\"cat\", OneHotEncoder(), cat_attribs),\n",
    "    ])\n",
    "\n",
    "data_prepared = full_pipeline.fit_transform(data)"
   ]
  },
  {
   "cell_type": "code",
   "execution_count": 24,
   "metadata": {},
   "outputs": [
    {
     "data": {
      "text/plain": [
       "array([[-1.03443078,  1.07099616,  0.74848195, ...,  0.        ,\n",
       "         0.        ,  1.        ],\n",
       "       [-0.89814782,  0.29534228,  0.33497246, ...,  0.        ,\n",
       "         0.        ,  1.        ],\n",
       "       [ 1.55494538, -0.91321187, -0.07853703, ...,  0.        ,\n",
       "         1.        ,  0.        ],\n",
       "       ...,\n",
       "       [ 0.66910617, -0.76882997,  0.10528286, ...,  0.        ,\n",
       "         1.        ,  0.        ],\n",
       "       [ 1.41866242, -1.30995531,  0.61070229, ...,  0.        ,\n",
       "         1.        ,  0.        ],\n",
       "       [ 1.55494538, -0.91321187, -1.05629515, ...,  0.        ,\n",
       "         0.        ,  1.        ]])"
      ]
     },
     "execution_count": 24,
     "metadata": {},
     "output_type": "execute_result"
    }
   ],
   "source": [
    "data_prepared #Data that will be used to fit each model, alongside data_labels (Y)"
   ]
  },
  {
   "cell_type": "code",
   "execution_count": 25,
   "metadata": {},
   "outputs": [
    {
     "data": {
      "text/plain": [
       "(537, 11)"
      ]
     },
     "execution_count": 25,
     "metadata": {},
     "output_type": "execute_result"
    }
   ],
   "source": [
    "data_prepared.shape"
   ]
  },
  {
   "cell_type": "markdown",
   "metadata": {},
   "source": [
    "<h2>Model building</h2>\n",
    "\n",
    "The data has been prepared and it's now time to move onto building the models to predict 'Y'. The selection of models consist of Linear regression, Lasso regression, and ElasticNet. \n",
    "\n",
    "In order to measure the success of each model, I used the Mean Squared Error, followed by the Root Mean Squared Error, which is the square root of the mean of the squared differences between actual outcomes and predictions. This is the most common success metric for regression tasks which measures the average distance between the predicted and actual values. Because of this, a lower RMSE shows that the model is better at predicting the target variable. Thus, a lower RMSE score is desirable for this task.\n",
    "\n",
    "These RMSE values will be used and compared with a final RMSE during the final testing on the test set."
   ]
  },
  {
   "cell_type": "markdown",
   "metadata": {},
   "source": [
    "<h3>Linear Regression</h3>"
   ]
  },
  {
   "cell_type": "code",
   "execution_count": 26,
   "metadata": {},
   "outputs": [
    {
     "data": {
      "text/plain": [
       "LinearRegression()"
      ]
     },
     "execution_count": 26,
     "metadata": {},
     "output_type": "execute_result"
    }
   ],
   "source": [
    "lin_reg = LinearRegression()\n",
    "lin_reg.fit(data_prepared, data_labels)"
   ]
  },
  {
   "cell_type": "code",
   "execution_count": 27,
   "metadata": {},
   "outputs": [
    {
     "name": "stdout",
     "output_type": "stream",
     "text": [
      "Predictions: [12.43433171 14.64306379 30.11799368 34.95301158 23.54064133]\n"
     ]
    }
   ],
   "source": [
    "some_data = data.iloc[:5]\n",
    "some_labels = data_labels.iloc[:5]\n",
    "some_data_prepared = full_pipeline.transform(some_data)\n",
    "\n",
    "print(\"Predictions:\", lin_reg.predict(some_data_prepared)) #Y predictions"
   ]
  },
  {
   "cell_type": "code",
   "execution_count": 28,
   "metadata": {},
   "outputs": [
    {
     "name": "stdout",
     "output_type": "stream",
     "text": [
      "Labels: [15.08, 15.19, 32.31, 41.67, 29.63]\n"
     ]
    }
   ],
   "source": [
    "print(\"Labels:\", list(some_labels)) #Comparing predicted labels with actual labels\n"
   ]
  },
  {
   "cell_type": "code",
   "execution_count": 29,
   "metadata": {},
   "outputs": [
    {
     "data": {
      "text/plain": [
       "array([[-1.03443078,  1.07099616,  0.74848195,  1.29072766, -1.26105905,\n",
       "         0.35749091,  0.00490148, -1.16327892,  0.        ,  0.        ,\n",
       "         1.        ],\n",
       "       [-0.89814782,  0.29534228,  0.33497246,  0.41168626, -0.71673846,\n",
       "         2.08630327, -0.99102645, -0.54348139,  0.        ,  0.        ,\n",
       "         1.        ],\n",
       "       [ 1.55494538, -0.91321187, -0.07853703, -1.34639653,  0.60364318,\n",
       "        -0.18844984,  0.28945232,  1.34721409,  0.        ,  1.        ,\n",
       "         0.        ],\n",
       "       [-0.353016  , -0.3179331 ,  0.33497246, -1.17058826,  1.35814697,\n",
       "         2.08630327,  0.858554  , -1.16327892,  1.        ,  0.        ,\n",
       "         0.        ],\n",
       "       [-0.353016  , -0.3179331 ,  0.97834207, -1.17058826,  0.26411647,\n",
       "         0.05970505, -1.70240355, -1.78307645,  0.        ,  1.        ,\n",
       "         0.        ]])"
      ]
     },
     "execution_count": 29,
     "metadata": {},
     "output_type": "execute_result"
    }
   ],
   "source": [
    "some_data_prepared"
   ]
  },
  {
   "cell_type": "code",
   "execution_count": 30,
   "metadata": {},
   "outputs": [
    {
     "data": {
      "text/plain": [
       "4.522586051646868"
      ]
     },
     "execution_count": 30,
     "metadata": {},
     "output_type": "execute_result"
    }
   ],
   "source": [
    "from sklearn.metrics import mean_squared_error #MSE is the best success measure for regression tasks\n",
    "\n",
    "data_predictions = lin_reg.predict(data_prepared)\n",
    "lin_mse = mean_squared_error(data_labels, data_predictions)\n",
    "lin_rmse = np.sqrt(lin_mse)\n",
    "lin_rmse"
   ]
  },
  {
   "cell_type": "markdown",
   "metadata": {},
   "source": [
    "<h3>Results</h3>\n",
    "\n",
    "The model performed quite well with an overall RMSE of 4.52. The predicted values can be seen on line 27, followed by the actual values below, which are quite closely related. The linear regression model only needs to be trained using the training set as explained in the rubric."
   ]
  },
  {
   "cell_type": "markdown",
   "metadata": {},
   "source": [
    "<h3>Evaluation using Cross-Validation</h3>\n",
    "\n",
    "We can also provide a better evaluation of model by using Cross validation, which works by randomly splitting the training data into 10 subsets called folds, which can be changed via the 'cv' parameter.  "
   ]
  },
  {
   "cell_type": "code",
   "execution_count": 38,
   "metadata": {},
   "outputs": [
    {
     "name": "stdout",
     "output_type": "stream",
     "text": [
      "Scores: [4.60057551 4.25456237 4.99290609 4.58111705 4.91948389 4.33629243\n",
      " 4.83667201 5.07503353 5.05877518 3.49221081]\n",
      "Mean: 4.614762886444052\n",
      "Standard deviation: 0.46506274028561667\n"
     ]
    }
   ],
   "source": [
    "#Cross validation using Linear regression\n",
    "from sklearn.model_selection import cross_val_score\n",
    "\n",
    "lin_scores = cross_val_score(lin_reg, data_prepared, data_labels,\n",
    "                             n_jobs=-1, scoring=\"neg_mean_squared_error\", cv=10)\n",
    "lin_rmse_scores = np.sqrt(-lin_scores)\n",
    "display_scores(lin_rmse_scores)"
   ]
  },
  {
   "cell_type": "code",
   "execution_count": 39,
   "metadata": {},
   "outputs": [
    {
     "name": "stdout",
     "output_type": "stream",
     "text": [
      "Scores: [4.60057551 4.25456237 4.99290609 4.58111705 4.91948389 4.33629243\n",
      " 4.83667201 5.07503353 5.05877518 3.49221081]\n",
      "Mean: 4.614762886444052\n",
      "Standard deviation: 0.46506274028561667\n"
     ]
    }
   ],
   "source": [
    "#Evaluation using Cross-Validation\n",
    "def display_scores(scores):\n",
    "    print(\"Scores:\", scores)\n",
    "    print(\"Mean:\", scores.mean())\n",
    "    print(\"Standard deviation:\", scores.std())\n",
    "    \n",
    "display_scores(lin_rmse_scores)\n"
   ]
  },
  {
   "cell_type": "markdown",
   "metadata": {},
   "source": [
    "<h3>Lasso regression</h3>"
   ]
  },
  {
   "cell_type": "code",
   "execution_count": 40,
   "metadata": {},
   "outputs": [
    {
     "name": "stdout",
     "output_type": "stream",
     "text": [
      "Predictions: [12.33647638 14.59201905 30.11380384 35.06992329 23.50711503]\n"
     ]
    }
   ],
   "source": [
    "from sklearn.linear_model import Lasso\n",
    "lasso_reg = Lasso(alpha=0.1)\n",
    "lasso_reg.fit(data_prepared, data_labels)\n",
    "print(\"Predictions:\", lasso_reg.predict(some_data_prepared))"
   ]
  },
  {
   "cell_type": "code",
   "execution_count": 41,
   "metadata": {},
   "outputs": [
    {
     "name": "stdout",
     "output_type": "stream",
     "text": [
      "Labels: [15.08, 15.19, 32.31, 41.67, 29.63]\n"
     ]
    }
   ],
   "source": [
    "print(\"Labels:\", list(some_labels))"
   ]
  },
  {
   "cell_type": "code",
   "execution_count": 42,
   "metadata": {},
   "outputs": [
    {
     "data": {
      "text/plain": [
       "4.539008876004815"
      ]
     },
     "execution_count": 42,
     "metadata": {},
     "output_type": "execute_result"
    }
   ],
   "source": [
    "data_predictions = lasso_reg.predict(data_prepared)\n",
    "lasso_mse = mean_squared_error(data_labels, data_predictions)\n",
    "lasso_rmse = np.sqrt(lasso_mse)\n",
    "lasso_rmse"
   ]
  },
  {
   "cell_type": "markdown",
   "metadata": {},
   "source": [
    "<h3>Results</h3>\n",
    "\n",
    "This model performed slightly worse with a final rmse of 4.53, as opposed to Linear regression's 4.52. The overall goal of machine learning models is to reach a lower score, and so the former model outperformed the latter."
   ]
  },
  {
   "cell_type": "markdown",
   "metadata": {},
   "source": [
    "<h3>Evaluation using Cross-Validation</h3>"
   ]
  },
  {
   "cell_type": "code",
   "execution_count": 43,
   "metadata": {},
   "outputs": [
    {
     "name": "stdout",
     "output_type": "stream",
     "text": [
      "Scores: [4.59262398 4.14609033 5.07047864 4.59515063 4.92528832 4.3777071\n",
      " 4.83705845 4.96116179 5.13065628 3.52299741]\n",
      "Mean: 4.615921293773146\n",
      "Standard deviation: 0.46992755070851494\n"
     ]
    }
   ],
   "source": [
    "#Cross validation using Lasso Regression\n",
    "from sklearn.model_selection import cross_val_score\n",
    "\n",
    "lasso_scores = cross_val_score(lasso_reg, data_prepared, data_labels,\n",
    "                             n_jobs=-1, scoring=\"neg_mean_squared_error\", cv=10)\n",
    "lasso_rmse_scores = np.sqrt(-lasso_scores)\n",
    "display_scores(lasso_rmse_scores)"
   ]
  },
  {
   "cell_type": "markdown",
   "metadata": {},
   "source": [
    "<h3>ElasticNet</h3>"
   ]
  },
  {
   "cell_type": "code",
   "execution_count": 44,
   "metadata": {},
   "outputs": [
    {
     "name": "stdout",
     "output_type": "stream",
     "text": [
      "Predictions: [12.56615251 14.9179344  30.30287951 34.37299295 23.71922526]\n"
     ]
    }
   ],
   "source": [
    "from sklearn.linear_model import ElasticNet\n",
    "elastic_net = ElasticNet(alpha=0.1, l1_ratio=0.5, random_state=42)\n",
    "elastic_net.fit(data_prepared, data_labels)\n",
    "print(\"Predictions:\", elastic_net.predict(some_data_prepared))"
   ]
  },
  {
   "cell_type": "code",
   "execution_count": 45,
   "metadata": {},
   "outputs": [
    {
     "name": "stdout",
     "output_type": "stream",
     "text": [
      "Labels: [15.08, 15.19, 32.31, 41.67, 29.63]\n"
     ]
    }
   ],
   "source": [
    "print(\"Labels:\", list(some_labels))"
   ]
  },
  {
   "cell_type": "code",
   "execution_count": 46,
   "metadata": {},
   "outputs": [
    {
     "data": {
      "text/plain": [
       "4.547757984887952"
      ]
     },
     "execution_count": 46,
     "metadata": {},
     "output_type": "execute_result"
    }
   ],
   "source": [
    "data_predictions = elastic_net.predict(data_prepared)\n",
    "eN_mse = mean_squared_error(data_labels, data_predictions)\n",
    "eN_rmse = np.sqrt(eN_mse)\n",
    "eN_rmse"
   ]
  },
  {
   "cell_type": "markdown",
   "metadata": {},
   "source": [
    "<h3>Results</h3>\n",
    "\n",
    "ElasticNet had an overall rmse of 4.54, slightly worse than the other two, but a good performance nonetheless. I can now move on to fine tuning using Grid search and then finally testing on the test set."
   ]
  },
  {
   "cell_type": "markdown",
   "metadata": {},
   "source": [
    "<h3>Evaluation using Cross-Validation</h3>"
   ]
  },
  {
   "cell_type": "code",
   "execution_count": 47,
   "metadata": {},
   "outputs": [
    {
     "name": "stdout",
     "output_type": "stream",
     "text": [
      "Scores: [4.65365627 4.13768855 5.11203178 4.65674019 4.90509231 4.39766774\n",
      " 4.80703491 4.94572117 5.1068956  3.49042652]\n",
      "Mean: 4.621295504385687\n",
      "Standard deviation: 0.47560220456225516\n"
     ]
    }
   ],
   "source": [
    "#Cross validation using Lasso Regression\n",
    "from sklearn.model_selection import cross_val_score\n",
    "\n",
    "eN_scores = cross_val_score(elastic_net, data_prepared, data_labels,\n",
    "                             n_jobs=-1, scoring=\"neg_mean_squared_error\", cv=10)\n",
    "eN_rmse_scores = np.sqrt(-eN_scores)\n",
    "display_scores(eN_rmse_scores)"
   ]
  },
  {
   "cell_type": "markdown",
   "metadata": {},
   "source": [
    "<h2>Fine-Tuning: Grid Search</h2>\n",
    "\n",
    "Before testing on the unseen data, it's important to fine tune the model further, in this case I'll be using grid search. Instead of manually tuning the hyperparameters, we can use GridSearchCV to do it automatically, provided by Scikit-Learn."
   ]
  },
  {
   "cell_type": "markdown",
   "metadata": {},
   "source": [
    "<h3>Grid search using the Linear Regression model</h3>"
   ]
  },
  {
   "cell_type": "code",
   "execution_count": 70,
   "metadata": {},
   "outputs": [
    {
     "data": {
      "text/plain": [
       "{'copy_X': True, 'fit_intercept': True, 'n_jobs': None, 'normalize': False}"
      ]
     },
     "execution_count": 70,
     "metadata": {},
     "output_type": "execute_result"
    }
   ],
   "source": [
    "lin_reg.get_params() #Finding what parameters the linear regressor model uses"
   ]
  },
  {
   "cell_type": "code",
   "execution_count": 66,
   "metadata": {},
   "outputs": [
    {
     "data": {
      "text/plain": [
       "GridSearchCV(cv=5, estimator=LinearRegression(),\n",
       "             param_grid={'fit_intercept': [True, False],\n",
       "                         'n_jobs': [None, -1, 0, 1],\n",
       "                         'normalize': [True, False]},\n",
       "             scoring='neg_mean_squared_error')"
      ]
     },
     "execution_count": 66,
     "metadata": {},
     "output_type": "execute_result"
    }
   ],
   "source": [
    "from sklearn.model_selection import GridSearchCV\n",
    "parameters={'fit_intercept': [True, False], 'n_jobs': [None, -1, 0, 1],'normalize':[True, False]}\n",
    "lin_regressor=GridSearchCV(lin_reg,parameters,scoring='neg_mean_squared_error',cv=5)\n",
    "lin_regressor.fit(data_prepared,data_labels)"
   ]
  },
  {
   "cell_type": "code",
   "execution_count": 67,
   "metadata": {},
   "outputs": [
    {
     "data": {
      "text/plain": [
       "{'fit_intercept': True, 'n_jobs': None, 'normalize': True}"
      ]
     },
     "execution_count": 67,
     "metadata": {},
     "output_type": "execute_result"
    }
   ],
   "source": [
    "lin_regressor.best_params_ #Best paramaters for the model to use"
   ]
  },
  {
   "cell_type": "code",
   "execution_count": 68,
   "metadata": {},
   "outputs": [
    {
     "data": {
      "text/plain": [
       "LinearRegression(normalize=True)"
      ]
     },
     "execution_count": 68,
     "metadata": {},
     "output_type": "execute_result"
    }
   ],
   "source": [
    "lin_regressor.best_estimator_"
   ]
  },
  {
   "cell_type": "markdown",
   "metadata": {},
   "source": [
    "<h3>Insight</h3>\n",
    "\n",
    "Before performing GridSearchCV, it's important to first understand what parameters are utilised by Linear Regression, and then use those parameters to perform GridSearch to select the most optimal ones. As explained in the rubric, Linear Regression won't be used on the test set, but performing GridSearch was still important to gain insight on the model."
   ]
  },
  {
   "cell_type": "markdown",
   "metadata": {},
   "source": [
    "<h3>Grid search and evaluating on the test set using Lasso regression</h3>\n",
    "\n"
   ]
  },
  {
   "cell_type": "code",
   "execution_count": 71,
   "metadata": {},
   "outputs": [
    {
     "data": {
      "text/plain": [
       "{'alpha': 0.1,\n",
       " 'copy_X': True,\n",
       " 'fit_intercept': True,\n",
       " 'max_iter': 1000,\n",
       " 'normalize': False,\n",
       " 'positive': False,\n",
       " 'precompute': False,\n",
       " 'random_state': None,\n",
       " 'selection': 'cyclic',\n",
       " 'tol': 0.0001,\n",
       " 'warm_start': False}"
      ]
     },
     "execution_count": 71,
     "metadata": {},
     "output_type": "execute_result"
    }
   ],
   "source": [
    "lasso_reg.get_params() #Finding what parameters the lasso regressor model uses"
   ]
  },
  {
   "cell_type": "code",
   "execution_count": 73,
   "metadata": {},
   "outputs": [
    {
     "data": {
      "text/plain": [
       "GridSearchCV(cv=5, estimator=Lasso(alpha=0.1),\n",
       "             param_grid={'alpha': [0.001, 0.01, 0.1, 1, 2, 4, 6, 8, 10],\n",
       "                         'normalize': [True, False],\n",
       "                         'positive': [True, False]},\n",
       "             scoring='neg_mean_squared_error')"
      ]
     },
     "execution_count": 73,
     "metadata": {},
     "output_type": "execute_result"
    }
   ],
   "source": [
    "from sklearn.model_selection import GridSearchCV\n",
    "parameters={'alpha':[0.001, 0.01, 0.1, 1, 2, 4, 6, 8, 10], 'normalize':[True, False], 'positive':[True, False]}\n",
    "lasso_regressor=GridSearchCV(lasso_reg,parameters,scoring='neg_mean_squared_error',cv=5)\n",
    "lasso_regressor.fit(data_prepared,data_labels)"
   ]
  },
  {
   "cell_type": "code",
   "execution_count": 74,
   "metadata": {},
   "outputs": [
    {
     "data": {
      "text/plain": [
       "{'alpha': 0.001, 'normalize': False, 'positive': False}"
      ]
     },
     "execution_count": 74,
     "metadata": {},
     "output_type": "execute_result"
    }
   ],
   "source": [
    "lasso_regressor.best_params_ #Best paramaters for the model to use"
   ]
  },
  {
   "cell_type": "code",
   "execution_count": 75,
   "metadata": {},
   "outputs": [
    {
     "data": {
      "text/plain": [
       "Lasso(alpha=0.001)"
      ]
     },
     "execution_count": 75,
     "metadata": {},
     "output_type": "execute_result"
    }
   ],
   "source": [
    "lasso_regressor.best_estimator_"
   ]
  },
  {
   "cell_type": "markdown",
   "metadata": {},
   "source": [
    "<h3>Insight</h3>\n",
    "\n",
    "Performing GridSearch allows the best parameters to be utilised upon evaluating on the test set to yield the best results. We can compare the original rmse score from the base model with the optimal model using GridSearch on the test set. The results can be seen below."
   ]
  },
  {
   "cell_type": "code",
   "execution_count": 77,
   "metadata": {},
   "outputs": [],
   "source": [
    "final_model = lasso_regressor.best_estimator_\n",
    "\n",
    "X_test = test_set.drop(\"Y\", axis=1)\n",
    "y_test = test_set[\"Y\"].copy()\n",
    "\n",
    "X_test_prepared = full_pipeline.transform(X_test)\n",
    "final_predictions = final_model.predict(X_test_prepared)\n",
    "\n",
    "final_mse = mean_squared_error(y_test, final_predictions)\n",
    "final_rmse = np.sqrt(final_mse)"
   ]
  },
  {
   "cell_type": "code",
   "execution_count": 78,
   "metadata": {},
   "outputs": [
    {
     "name": "stdout",
     "output_type": "stream",
     "text": [
      "Original RMSE:  4.539008876004815\n",
      "Final RMSE after grid search/test set: 4.375359241279741\n"
     ]
    }
   ],
   "source": [
    "print(\"Original RMSE: \",lasso_rmse)\n",
    "print(\"Final RMSE after grid search/test set:\",final_rmse)"
   ]
  },
  {
   "cell_type": "markdown",
   "metadata": {},
   "source": [
    "<h3>Results</h3> \n",
    "\n",
    "The model was able to perform well on the test set despite it being evaluated on unseen data. Using GridSearchCV allowed the most optimal parameters to be utilised by the final model and produce a better score in comparison to that of the base model."
   ]
  },
  {
   "cell_type": "markdown",
   "metadata": {},
   "source": [
    "<h3>Grid search and evaluating on the test set using ElasticNet</h3>"
   ]
  },
  {
   "cell_type": "code",
   "execution_count": 79,
   "metadata": {},
   "outputs": [
    {
     "data": {
      "text/plain": [
       "{'alpha': 0.1,\n",
       " 'copy_X': True,\n",
       " 'fit_intercept': True,\n",
       " 'l1_ratio': 0.5,\n",
       " 'max_iter': 1000,\n",
       " 'normalize': False,\n",
       " 'positive': False,\n",
       " 'precompute': False,\n",
       " 'random_state': 42,\n",
       " 'selection': 'cyclic',\n",
       " 'tol': 0.0001,\n",
       " 'warm_start': False}"
      ]
     },
     "execution_count": 79,
     "metadata": {},
     "output_type": "execute_result"
    }
   ],
   "source": [
    "elastic_net.get_params() #Finding what parameters the ElasticNet model uses"
   ]
  },
  {
   "cell_type": "code",
   "execution_count": 81,
   "metadata": {},
   "outputs": [
    {
     "data": {
      "text/plain": [
       "GridSearchCV(cv=5, estimator=ElasticNet(alpha=0.1, random_state=42),\n",
       "             param_grid={'alpha': [0.001, 0.01, 0.1, 1, 2, 4, 6, 8, 10],\n",
       "                         'l1_ratio': [0.1, 0.2, 0.5, 1],\n",
       "                         'normalize': [True, False]},\n",
       "             scoring='neg_mean_squared_error')"
      ]
     },
     "execution_count": 81,
     "metadata": {},
     "output_type": "execute_result"
    }
   ],
   "source": [
    "from sklearn.model_selection import GridSearchCV\n",
    "parameters={'alpha':[0.001, 0.01, 0.1, 1, 2, 4, 6, 8, 10], 'l1_ratio':[0.1, 0.2, 0.5, 1], 'normalize':[True, False]}\n",
    "eN_regressor=GridSearchCV(elastic_net,parameters,scoring='neg_mean_squared_error',cv=5)\n",
    "eN_regressor.fit(data_prepared,data_labels)"
   ]
  },
  {
   "cell_type": "code",
   "execution_count": 82,
   "metadata": {},
   "outputs": [
    {
     "data": {
      "text/plain": [
       "{'alpha': 0.01, 'l1_ratio': 0.1, 'normalize': False}"
      ]
     },
     "execution_count": 82,
     "metadata": {},
     "output_type": "execute_result"
    }
   ],
   "source": [
    "eN_regressor.best_params_  #Best paramaters for the model to use"
   ]
  },
  {
   "cell_type": "code",
   "execution_count": 83,
   "metadata": {},
   "outputs": [
    {
     "data": {
      "text/plain": [
       "ElasticNet(alpha=0.01, l1_ratio=0.1, random_state=42)"
      ]
     },
     "execution_count": 83,
     "metadata": {},
     "output_type": "execute_result"
    }
   ],
   "source": [
    "eN_regressor.best_estimator_"
   ]
  },
  {
   "cell_type": "code",
   "execution_count": 84,
   "metadata": {},
   "outputs": [],
   "source": [
    "final_model = eN_regressor.best_estimator_\n",
    "\n",
    "X_test = test_set.drop(\"Y\", axis=1)\n",
    "y_test = test_set[\"Y\"].copy()\n",
    "\n",
    "X_test_prepared = full_pipeline.transform(X_test)\n",
    "final_predictions = final_model.predict(X_test_prepared)\n",
    "\n",
    "final_mse = mean_squared_error(y_test, final_predictions)\n",
    "final_rmse = np.sqrt(final_mse)"
   ]
  },
  {
   "cell_type": "code",
   "execution_count": 85,
   "metadata": {},
   "outputs": [
    {
     "name": "stdout",
     "output_type": "stream",
     "text": [
      "Original RMSE:  4.547757984887952\n",
      "Final RMSE after grid search/test set: 4.382474855754724\n"
     ]
    }
   ],
   "source": [
    "print(\"Original RMSE: \",eN_rmse)\n",
    "print(\"Final RMSE after grid search/test set:\",final_rmse)"
   ]
  },
  {
   "cell_type": "markdown",
   "metadata": {},
   "source": [
    "<h2>Conclusion</h2>\n",
    "\n",
    "Out of the two models evaluated on the test set, Lasso regression had the lowest margin of error with the final_rmse being 4.382474855754724. This is also representative of the training set, which also outperformed the ElasticNet model. The model was able to perform well on the test set despite the test set being unseen data."
   ]
  },
  {
   "cell_type": "markdown",
   "metadata": {},
   "source": [
    "<h2>References</h2>\n",
    "\n",
    "- Geron, A. (2022) “Chapter 2,” in Hands-on machine learning with scikit-learn, Keras, and tensorflow 3E: Concepts, tools, and techniques to build Intelligent Systems. O'Reilly Media. \n"
   ]
  },
  {
   "cell_type": "code",
   "execution_count": null,
   "metadata": {},
   "outputs": [],
   "source": []
  }
 ],
 "metadata": {
  "kernelspec": {
   "display_name": "Python 3",
   "language": "python",
   "name": "python3"
  },
  "language_info": {
   "codemirror_mode": {
    "name": "ipython",
    "version": 3
   },
   "file_extension": ".py",
   "mimetype": "text/x-python",
   "name": "python",
   "nbconvert_exporter": "python",
   "pygments_lexer": "ipython3",
   "version": "3.6.10"
  }
 },
 "nbformat": 4,
 "nbformat_minor": 4
}
